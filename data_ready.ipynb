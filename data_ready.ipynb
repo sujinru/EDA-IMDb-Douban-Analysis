{
 "cells": [
  {
   "cell_type": "code",
   "execution_count": 2,
   "metadata": {
    "collapsed": false,
    "scrolled": false
   },
   "outputs": [],
   "source": [
    "import pandas as pd\n",
    "import urllib, json\n",
    "import re\n",
    "import numpy as np\n",
    "from difflib import SequenceMatcher\n",
    "import time"
   ]
  },
  {
   "cell_type": "code",
   "execution_count": 3,
   "metadata": {
    "collapsed": false
   },
   "outputs": [],
   "source": [
    "count=0\n",
    "def RT_ME_rating(id):\n",
    "    global count\n",
    "    url=\"http://www.omdbapi.com/?i=\"+str(id)\n",
    "    count+=1\n",
    "    if count%200==0:\n",
    "        print count\n",
    "    try:\n",
    "        response = urllib.urlopen(url)\n",
    "        data = json.loads(response.read())\n",
    "        me=\"\"\n",
    "        rt=\"\"\n",
    "        for i in range(len(data['Ratings'])):\n",
    "            if data[\"Ratings\"][i]['Source']==\"Metacritic\":\n",
    "                me = data['Ratings'][i]['Value'][:-4]\n",
    "            if data[\"Ratings\"][i]['Source']==\"Rotten Tomatoes\":\n",
    "                rt = data[\"Ratings\"][i]['Value'][:-1]\n",
    "        return rt+\"_\"+me\n",
    "    except ValueError:\n",
    "        print \"the ID is\", id\n",
    "        return \"_\""
   ]
  },
  {
   "cell_type": "code",
   "execution_count": 4,
   "metadata": {
    "collapsed": false
   },
   "outputs": [],
   "source": [
    "count=0\n",
    "def douban_rating(title):\n",
    "    try:\n",
    "        url = 'http://api.douban.com/v2/movie/search?q='+title.replace(\" \", \"+\")\n",
    "        response = urllib.urlopen(url)\n",
    "        data = json.loads(response.read())\n",
    "        #print data\n",
    "        df = pd.DataFrame()\n",
    "        length = len(data['subjects'])\n",
    "        for i in range(length):\n",
    "            new_data=data['subjects'][i]\n",
    "            new_title = new_data['original_title']\n",
    "            new_score = new_data['rating']['average']\n",
    "            df = df.append({'score': new_score, 'title': new_title}, ignore_index=True)\n",
    "        df = df.sort(columns='score', ascending=False).drop_duplicates('title')\n",
    "        df['likelihood']=df['title'].apply(lambda x: SequenceMatcher(None, x, title).ratio())\n",
    "        return float(df[df['likelihood']==df['likelihood'].max()]['score'])\n",
    "    except ValueError as e:\n",
    "        print \"Value Error:\", title, e.message\n",
    "        return 0.0\n",
    "    except KeyError as e:\n",
    "        print \"KeyError:\", title, e.message\n",
    "        return 0.0\n",
    "    except TypeError as e:\n",
    "        print \"TypeError:\", title, e.message\n",
    "        return 0.0"
   ]
  },
  {
   "cell_type": "code",
   "execution_count": 43,
   "metadata": {
    "collapsed": false
   },
   "outputs": [],
   "source": [
    "films=pd.read_csv(\"./movie_final.csv\", index_col=0)"
   ]
  },
  {
   "cell_type": "code",
   "execution_count": 36,
   "metadata": {
    "collapsed": true
   },
   "outputs": [],
   "source": [
    "films.loc[films['rt_score']==0, 'rt_score']=np.nan"
   ]
  },
  {
   "cell_type": "code",
   "execution_count": 37,
   "metadata": {
    "collapsed": false
   },
   "outputs": [
    {
     "data": {
      "text/plain": [
       "0"
      ]
     },
     "execution_count": 37,
     "metadata": {},
     "output_type": "execute_result"
    }
   ],
   "source": [
    "len(films[films['rt_score']==0])"
   ]
  },
  {
   "cell_type": "code",
   "execution_count": 42,
   "metadata": {
    "collapsed": true
   },
   "outputs": [],
   "source": [
    "films.to_csv(\"./movie_final.csv\")"
   ]
  },
  {
   "cell_type": "code",
   "execution_count": null,
   "metadata": {
    "collapsed": true
   },
   "outputs": [],
   "source": []
  }
 ],
 "metadata": {
  "kernelspec": {
   "display_name": "Python 2",
   "language": "python",
   "name": "python2"
  },
  "language_info": {
   "codemirror_mode": {
    "name": "ipython",
    "version": 2
   },
   "file_extension": ".py",
   "mimetype": "text/x-python",
   "name": "python",
   "nbconvert_exporter": "python",
   "pygments_lexer": "ipython2",
   "version": "2.7.13"
  }
 },
 "nbformat": 4,
 "nbformat_minor": 2
}
